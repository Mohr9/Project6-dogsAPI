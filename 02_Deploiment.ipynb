{
 "cells": [
  {
   "cell_type": "code",
   "execution_count": 67,
   "id": "d8310ea8",
   "metadata": {},
   "outputs": [],
   "source": [
    "\n",
    "##### Importation des packaging : #####\n",
    "\n",
    "import os\n",
    "import pickle\n",
    "\n",
    "import streamlit as st\n",
    "import base64\n",
    "\n",
    "import numpy as np\n",
    "import pandas as pd\n",
    "from io import BytesIO\n",
    "\n",
    "from PIL import Image\n",
    "import tensorflow as tf\n",
    "\n"
   ]
  },
  {
   "cell_type": "markdown",
   "id": "518d8656",
   "metadata": {},
   "source": [
    "### Chargement des données :"
   ]
  },
  {
   "cell_type": "code",
   "execution_count": 68,
   "id": "ed80f976",
   "metadata": {},
   "outputs": [],
   "source": [
    "#Chargement des modèles : \n",
    "vgg_model =  tf.keras.models.load_model(\"vgg16_trained.h5\") \n",
    "inception_model = tf.keras.models.load_model(\"inception_trained.h5\") \n",
    "xception_model = tf.keras.models.load_model(\"xception_trained.h5\") \n",
    "\n",
    "#Chargement des labels : \n",
    "label = pickle.load(open('encoder','rb'))"
   ]
  },
  {
   "cell_type": "code",
   "execution_count": null,
   "id": "daf7aa68",
   "metadata": {},
   "outputs": [],
   "source": []
  },
  {
   "cell_type": "code",
   "execution_count": null,
   "id": "7b1209cd",
   "metadata": {},
   "outputs": [],
   "source": []
  },
  {
   "cell_type": "markdown",
   "id": "83108942",
   "metadata": {},
   "source": [
    "### importation des fonctions : "
   ]
  },
  {
   "cell_type": "code",
   "execution_count": 69,
   "id": "9e36cd73",
   "metadata": {},
   "outputs": [],
   "source": [
    "# egalisation des  histogrammes : \n",
    "def equalize_histogram(image):\n",
    "    histogram, _ = np.histogram(image.flatten(), bins=256, range=[0, 256])\n",
    "    cdf = histogram.cumsum()\n",
    "    cdf_normalized = (cdf - cdf.min()) * 255 / (cdf.max() - cdf.min())\n",
    "    equalized_image = np.interp(image.flatten(), range(256), cdf_normalized).reshape(image.shape)\n",
    "    return equalized_image.astype(np.uint8)\n",
    "\n",
    "# Normalisation des images\n",
    "def normalize_image(image):\n",
    "    return image / 255.0\n",
    "\n",
    "# Blanchiment des images\n",
    "def whiten_image(image):\n",
    "    mean = np.mean(image)\n",
    "    std = np.std(image)\n",
    "    return (image - mean) / std\n",
    "\n",
    "def preprocess_image(image):\n",
    "   \n",
    "    image = equalize_histogram(image)\n",
    "    image = normalize_image(image)\n",
    "    image = whiten_image(image)\n",
    "\n",
    "    return image\n"
   ]
  },
  {
   "cell_type": "code",
   "execution_count": 70,
   "id": "6cfa65f6",
   "metadata": {},
   "outputs": [],
   "source": [
    "# Fonction prédiction\n",
    "def tf_predict_from_image(image, model):\n",
    "    # Convertir l'image en couleur\n",
    "    image_rgb = image.convert('RGB')\n",
    "\n",
    "    # Redimensionnement de l'image pour la mettre en format pixel (300,300)\n",
    "    image_rgb = image_rgb.resize((300, 300))\n",
    "\n",
    "    # Convertir l'image en tableau numpy\n",
    "    test_image = np.array(image_rgb)\n",
    "\n",
    "    # Rajout d'une dimension pour que l'image soit compatible avec les modèles de Transfer Learning :\n",
    "    # la dimension sera sous forme : (batch_size, height, width, channels)\n",
    "    test_image = np.expand_dims(test_image, axis=0)\n",
    "\n",
    "    # Prétraitement de l'image :\n",
    "    test_image = preprocess_image(test_image)\n",
    "\n",
    "    # Prédiction avec le modèle choisi :\n",
    "    prediction = model.predict(test_image)\n",
    "\n",
    "    # Indice de la classe prédite\n",
    "    predicted_class_index = np.argmax(prediction)\n",
    "\n",
    "    # Nom de la classe prédite\n",
    "    predicted_class_label = label[predicted_class_index]\n",
    "\n",
    "    # Retourner la prédiction\n",
    "    return predicted_class_label\n"
   ]
  },
  {
   "cell_type": "markdown",
   "id": "ebbf7e8f",
   "metadata": {},
   "source": [
    "## Mise en page :"
   ]
  },
  {
   "cell_type": "code",
   "execution_count": 71,
   "id": "360d3a3d",
   "metadata": {},
   "outputs": [],
   "source": [
    "# Création de l'interface Streamlit pour la selection de modèle :\n",
    "st.title(\"Sélectionnez un modèle de prédiction :\")\n",
    "    # Liste des modèles disponibles\n",
    "models = {\n",
    "    'VGG16': vgg_model,\n",
    "    'InceptionV3': inception_model,\n",
    "    'Xception': xception_model\n",
    "}\n",
    "\n",
    "selected_model = st.selectbox(\"Choisissez un modèle\", list(models.keys()))\n",
    "\n",
    "# Chargement du modèle sélectionné\n",
    "st.write(f\"Selection du modèle {selected_model}\")\n",
    "\n",
    "#Récupération du modèle utilisé : \n",
    "model_selected = models[selected_model]\n",
    "\n",
    "\n",
    "\n",
    "\n",
    "# Création de l'interface Streamlit pour l'upload d'image :\n",
    "st.title(\"Veuillez charger votre image :\")\n",
    "\n",
    "# Interface utilisateur pour télécharger une image\n",
    "uploaded_file = st.file_uploader(\"Veuillez télécharger une image\", type=['jpg', 'jpeg', 'png'])\n",
    "\n",
    "# Vérification si une image a été chargée\n",
    "\n",
    "if uploaded_file is not None: #si l'utilisateur a bien chargée une image\n",
    "    # Lecture de l'image téléchargée \n",
    "    image = Image.open(uploaded_file)\n",
    "    # Affichage de l'image téléchargée\n",
    "    st.image(image, caption='Image téléchargée')\n",
    "\n",
    "    # Prédiction avec le modèle choisi\n",
    "    predicted_class = tf_predict_from_image(image, model_selected)\n",
    "    \n",
    "    # Afficher la prédiction\n",
    "    st.write(\"Prédiction :\", predicted_class)\n",
    "    \n",
    "else:\n",
    "    st.warning(\"Veuillez charger une image.\")\n"
   ]
  },
  {
   "cell_type": "code",
   "execution_count": 72,
   "id": "1257fb0a",
   "metadata": {},
   "outputs": [
    {
     "data": {
      "text/plain": [
       "'D://Formation_DataScience_Openclassroom//02_projets//06//API'"
      ]
     },
     "execution_count": 72,
     "metadata": {},
     "output_type": "execute_result"
    }
   ],
   "source": [
    "p"
   ]
  }
 ],
 "metadata": {
  "kernelspec": {
   "display_name": "Python 3 (ipykernel)",
   "language": "python",
   "name": "python3"
  },
  "language_info": {
   "codemirror_mode": {
    "name": "ipython",
    "version": 3
   },
   "file_extension": ".py",
   "mimetype": "text/x-python",
   "name": "python",
   "nbconvert_exporter": "python",
   "pygments_lexer": "ipython3",
   "version": "3.8.13"
  }
 },
 "nbformat": 4,
 "nbformat_minor": 5
}
