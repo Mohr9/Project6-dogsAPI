{
 "cells": [
  {
   "cell_type": "code",
   "execution_count": 1,
   "id": "f92d872e",
   "metadata": {},
   "outputs": [
    {
     "name": "stderr",
     "output_type": "stream",
     "text": [
      "2023-07-16 20:53:13.543 \n",
      "  \u001b[33m\u001b[1mWarning:\u001b[0m to view this Streamlit app on a browser, run it with the following\n",
      "  command:\n",
      "\n",
      "    streamlit run C:\\Users\\MohR9\\Anaconda3\\lib\\site-packages\\ipykernel_launcher.py [ARGUMENTS]\n"
     ]
    }
   ],
   "source": [
    "\n",
    "##### Importation des packaging : #####\n",
    "\n",
    "import os\n",
    "import pickle\n",
    "\n",
    "import streamlit as st\n",
    "import base64\n",
    "\n",
    "import numpy as np\n",
    "import pandas as pd\n",
    "from io import BytesIO\n",
    "\n",
    "from PIL import Image\n",
    "import tensorflow as tf\n",
    "\n",
    "###### Chargement des données ######\n",
    "\n",
    "#Chargement des modèles : \n",
    "vgg_model =  tf.keras.models.load_model(\"vgg16_trained.h5\") \n",
    "inception_model = tf.keras.models.load_model(\"inception_trained.h5\") \n",
    "xception_model = tf.keras.models.load_model(\"xception_trained.h5\") \n",
    "\n",
    "#Chargement des labels : \n",
    "label = pickle.load(open('encoder','rb'))\n",
    "\n",
    "\n",
    "\n",
    "\n",
    " ###### Importation des fonctions  ######\n",
    " \n",
    " # egalisation des  histogrammes : \n",
    "def equalize_histogram(image):\n",
    "    histogram, _ = np.histogram(image.flatten(), bins=256, range=[0, 256])\n",
    "    cdf = histogram.cumsum()\n",
    "    cdf_normalized = (cdf - cdf.min()) * 255 / (cdf.max() - cdf.min())\n",
    "    equalized_image = np.interp(image.flatten(), range(256), cdf_normalized).reshape(image.shape)\n",
    "    return equalized_image.astype(np.uint8)\n",
    "\n",
    "# Normalisation des images\n",
    "def normalize_image(image):\n",
    "    return image / 255.0\n",
    "\n",
    "# Blanchiment des images\n",
    "def whiten_image(image):\n",
    "    mean = np.mean(image)\n",
    "    std = np.std(image)\n",
    "    return (image - mean) / std\n",
    "\n",
    "def preprocess_image(image):\n",
    "    image = equalize_histogram(image)\n",
    "    image = normalize_image(image)\n",
    "    image = whiten_image(image)\n",
    "\n",
    "    return image\n",
    "\n",
    "\n",
    "#Fonction prédiction :\n",
    "\n",
    "def tf_predict_from_image(image, model):\n",
    "    # Convertir l'image en couleur\n",
    "    image_rgb = image.convert('RGB')\n",
    "\n",
    "    # Redimensionnement de l'image pour la mettre en format pixel (300,300)\n",
    "    image_rgb = image_rgb.resize((300, 300))\n",
    "\n",
    "    # Convertir l'image en tableau numpy\n",
    "    test_image = np.array(image_rgb)\n",
    "\n",
    "    # Rajout d'une dimension pour que l'image soit compatible avec les modèles de Transfer Learning :\n",
    "    # la dimension sera sous forme : (batch_size, height, width, channels)\n",
    "    test_image = np.expand_dims(test_image, axis=0)\n",
    "\n",
    "    # Prétraitement de l'image :\n",
    "    test_image = preprocess_image(test_image)\n",
    "\n",
    "    # Prédiction avec le modèle choisi :\n",
    "    prediction = model.predict(test_image)\n",
    "\n",
    "    # Indice de la classe prédite\n",
    "    predicted_class_index = np.argmax(prediction)\n",
    "\n",
    "    # Nom de la classe prédite\n",
    "    predicted_class_label = label[predicted_class_index]\n",
    "\n",
    "    # Retourner la prédiction\n",
    "    return predicted_class_label\n",
    "\n",
    "\n",
    "    \n",
    "    ###### Mise en page #######\n",
    "    \n",
    "    \n",
    " ######## Fond d'écran : \n",
    " \n",
    "def get_base64(bin_file):\n",
    "    with open(bin_file, 'rb') as f:\n",
    "        data = f.read()\n",
    "    return base64.b64encode(data).decode()\n",
    "\n",
    "def set_background(png_file):\n",
    "    bin_str = get_base64(png_file)\n",
    "    page_bg_img = '''\n",
    "    <style>\n",
    "    .stApp {\n",
    "    background-image: url(\"data:image/png;base64,%s\");\n",
    "    background-size: cover;\n",
    "    }\n",
    "    </style>\n",
    "    ''' % bin_str\n",
    "    st.markdown(page_bg_img, unsafe_allow_html=True)\n",
    "\n",
    "set_background('background.jpg')\n",
    "    \n",
    "    \n",
    "###### selection de modèle :\n",
    "st.title(\"Sélectionnez un modèle de prédiction :\")\n",
    "    # Liste des modèles disponibles\n",
    "models = {\n",
    "    'InceptionV3': inception_model,\n",
    "    'Xception': xception_model,\n",
    "     'VGG16': vgg_model,\n",
    "\n",
    "}\n",
    "\n",
    "selected_model = st.selectbox(\"Choisissez un modèle\", list(models.keys()))\n",
    "\n",
    "# Chargement du modèle sélectionné\n",
    "st.write(f\"Vous avez selectionné le modèle {selected_model}\")\n",
    "\n",
    "#Récupération du modèle utilisé : \n",
    "model_selected = models[selected_model]\n",
    "\n",
    "\n",
    "####### pour l'upload d'image :\n",
    "\n",
    "st.title(\"Prédiction de race de chien à partir d'une image :\")\n",
    "\n",
    "# Interface utilisateur pour télécharger une image\n",
    "uploaded_file = st.file_uploader(\"Veuillez uploader votre image (format accepté : jpg, jpeg, png) \", type=['jpg', 'jpeg', 'png'])\n",
    "\n",
    "# Vérification si une image a été chargée\n",
    "\n",
    "if uploaded_file is not None: #si l'utilisateur a bien chargée une image\n",
    "    # Lecture de l'image téléchargée \n",
    "    image = Image.open(uploaded_file)\n",
    "    # Affichage de l'image téléchargée\n",
    "    st.image(image, caption='Image téléchargée avec succès !')\n",
    "\n",
    "    # Prédiction avec le modèle choisi\n",
    "    predicted_class = tf_predict_from_image(image, model_selected)\n",
    "    \n",
    "    # Afficher la prédiction\n",
    "    st.write(\"Prédiction de la race de chien :\", predicted_class)\n",
    "    \n",
    "else:\n",
    "    st.warning(\"Merci d'uploader une image valide.\")\n",
    "\n",
    "\n",
    "\n",
    "\n",
    "\n",
    "\n"
   ]
  },
  {
   "cell_type": "markdown",
   "id": "ad7fb91d",
   "metadata": {},
   "source": [
    "#### Récupération requierment "
   ]
  },
  {
   "cell_type": "code",
   "execution_count": 2,
   "id": "50375b5c",
   "metadata": {},
   "outputs": [
    {
     "name": "stdout",
     "output_type": "stream",
     "text": [
      "Note: you may need to restart the kernel to use updated packages.\n"
     ]
    }
   ],
   "source": [
    "pip freeze > requirements.txt\n"
   ]
  },
  {
   "cell_type": "code",
   "execution_count": 3,
   "id": "afa4b090",
   "metadata": {},
   "outputs": [],
   "source": [
    "import ast"
   ]
  },
  {
   "cell_type": "code",
   "execution_count": 12,
   "id": "8e895eca",
   "metadata": {},
   "outputs": [
    {
     "data": {
      "text/plain": [
       "['streamlit==1.22.0\\r', 'tensorflow==2.10.1\\r']"
      ]
     },
     "execution_count": 12,
     "metadata": {},
     "output_type": "execute_result"
    }
   ],
   "source": [
    "import subprocess\n",
    "\n",
    "def get_used_packages(file_path):\n",
    "    imported_modules = get_imported_modules(file_path)\n",
    "    installed_packages = subprocess.check_output([\"pip\", \"freeze\"]).decode(\"utf-8\")\n",
    "\n",
    "    used_packages = []\n",
    "\n",
    "    for line in installed_packages.split(\"\\n\"):\n",
    "        package_name = line.split(\"==\", 1)[0]\n",
    "        if package_name in imported_modules:\n",
    "            used_packages.append(line)\n",
    "\n",
    "    return used_packages\n",
    "\n",
    "get_used_packages('app.py')"
   ]
  },
  {
   "cell_type": "code",
   "execution_count": null,
   "id": "861f33c6",
   "metadata": {},
   "outputs": [],
   "source": [
    "tensorflow==2.10.1\\"
   ]
  },
  {
   "cell_type": "code",
   "execution_count": null,
   "id": "701325bc",
   "metadata": {},
   "outputs": [],
   "source": []
  }
 ],
 "metadata": {
  "kernelspec": {
   "display_name": "Python 3 (ipykernel)",
   "language": "python",
   "name": "python3"
  },
  "language_info": {
   "codemirror_mode": {
    "name": "ipython",
    "version": 3
   },
   "file_extension": ".py",
   "mimetype": "text/x-python",
   "name": "python",
   "nbconvert_exporter": "python",
   "pygments_lexer": "ipython3",
   "version": "3.8.13"
  }
 },
 "nbformat": 4,
 "nbformat_minor": 5
}
